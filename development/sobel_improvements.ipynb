{
 "cells": [
  {
   "cell_type": "code",
   "execution_count": 5,
   "id": "hairy-insertion",
   "metadata": {},
   "outputs": [],
   "source": [
    "import numpy as np\n",
    "import pandas as pd\n",
    "import xarray as xr\n",
    "from datetime import datetime, timedelta\n",
    "from tobac_flow.flow import Flow\n",
    "from tobac_flow import io, abi\n",
    "\n",
    "import cv2 as cv\n",
    "from scipy import ndimage as ndi\n"
   ]
  },
  {
   "cell_type": "code",
   "execution_count": 2,
   "id": "missing-stock",
   "metadata": {},
   "outputs": [
    {
     "name": "stdout",
     "output_type": "stream",
     "text": [
      "48\n"
     ]
    }
   ],
   "source": [
    "goes_data_path = '../data/GOES16'\n",
    "start_date = datetime(2018,6,19,17)\n",
    "days = timedelta(days=0.16)\n",
    "dates = pd.date_range(start_date, start_date+days, freq='H', closed='left').to_pydatetime()\n",
    "\n",
    "abi_files = io.find_abi_files(dates, satellite=16, product='MCMIP', view='C', mode=3, \n",
    "                              save_dir=goes_data_path, \n",
    "                              replicate_path=True, check_download=True, \n",
    "                              n_attempts=1, download_missing=True)\n",
    "             \n",
    "\n",
    "abi_dates = [io.get_goes_date(i) for i in abi_files]\n",
    "print(len(abi_files))\n",
    "\n",
    "# Get time difference (in seconds) between each file\n",
    "dt = [(abi_dates[1]-abi_dates[0]).total_seconds()/60] \\\n",
    "     + [(abi_dates[i+2]-abi_dates[i]).total_seconds()/120 \\\n",
    "        for i in range(len(abi_files)-2)] \\\n",
    "     + [(abi_dates[-1]-abi_dates[-2]).total_seconds()/60]\n",
    "dt = np.array(dt)\n",
    "\n",
    "# Test with some multichannel data\n",
    "ds_slice = {'x':slice(1325,1475), 'y':slice(725,850)}\n",
    "# Load a stack of goes datasets using xarray. Select a region over Northern Florida. (full file size in 1500x2500 pixels)\n",
    "goes_ds = xr.open_mfdataset(abi_files, concat_dim='t', combine='nested').isel(ds_slice)"
   ]
  },
  {
   "cell_type": "code",
   "execution_count": 3,
   "id": "pursuant-intro",
   "metadata": {},
   "outputs": [],
   "source": [
    "# Extract fields and load into memory\n",
    "wvd = goes_ds.CMI_C08 - goes_ds.CMI_C10\n",
    "try:\n",
    "    wvd = wvd.compute()\n",
    "except AttributeError:\n",
    "    pass\n",
    "\n",
    "bt = goes_ds.CMI_C13\n",
    "try:\n",
    "    bt = bt.compute()\n",
    "except AttributeError:\n",
    "    pass\n",
    "\n",
    "swd = goes_ds.CMI_C13 - goes_ds.CMI_C15\n",
    "try:\n",
    "    swd = swd.compute()\n",
    "except AttributeError:\n",
    "    pass"
   ]
  },
  {
   "cell_type": "code",
   "execution_count": 6,
   "id": "delayed-symphony",
   "metadata": {},
   "outputs": [
    {
     "name": "stdout",
     "output_type": "stream",
     "text": [
      "46\r"
     ]
    }
   ],
   "source": [
    "flow_kwargs = {'pyr_scale':0.5, 'levels':5, 'winsize':16, 'iterations':3, \n",
    "               'poly_n':5, 'poly_sigma':1.1, 'flags':cv.OPTFLOW_FARNEBACK_GAUSSIAN}\n",
    "\n",
    "flow = Flow(bt, flow_kwargs=flow_kwargs, smoothing_passes=3)"
   ]
  },
  {
   "cell_type": "code",
   "execution_count": 7,
   "id": "hairy-colony",
   "metadata": {},
   "outputs": [],
   "source": [
    "%load_ext memory_profiler"
   ]
  },
  {
   "cell_type": "code",
   "execution_count": 8,
   "id": "refined-austin",
   "metadata": {},
   "outputs": [
    {
     "name": "stdout",
     "output_type": "stream",
     "text": [
      "peak memory: 752.70 MiB, increment: 32.07 MiB\n"
     ]
    }
   ],
   "source": [
    "%memit flow.sobel(wvd, direction='uphill')\n"
   ]
  },
  {
   "cell_type": "code",
   "execution_count": 22,
   "id": "encouraging-woman",
   "metadata": {},
   "outputs": [
    {
     "name": "stdout",
     "output_type": "stream",
     "text": [
      "888 ms ± 49.7 ms per loop (mean ± std. dev. of 7 runs, 1 loop each)\n"
     ]
    }
   ],
   "source": [
    "%timeit flow.sobel(wvd, direction='uphill')\n"
   ]
  },
  {
   "cell_type": "code",
   "execution_count": 11,
   "id": "guilty-launch",
   "metadata": {},
   "outputs": [
    {
     "name": "stdout",
     "output_type": "stream",
     "text": [
      "peak memory: 199.18 MiB, increment: 39.55 MiB\n"
     ]
    }
   ],
   "source": [
    "%memit flow.sobel(wvd, direction='uphill', method='nearest')\n"
   ]
  },
  {
   "cell_type": "code",
   "execution_count": 23,
   "id": "automatic-scotland",
   "metadata": {},
   "outputs": [
    {
     "name": "stdout",
     "output_type": "stream",
     "text": [
      "806 ms ± 45.9 ms per loop (mean ± std. dev. of 7 runs, 1 loop each)\n"
     ]
    }
   ],
   "source": [
    "%timeit flow.sobel(wvd, direction='uphill', method='nearest')\n"
   ]
  },
  {
   "cell_type": "code",
   "execution_count": 12,
   "id": "employed-container",
   "metadata": {},
   "outputs": [],
   "source": [
    "from tobac_flow.legacy_flow import Flow_Func, flow_sobel, flow_convolve_nearest"
   ]
  },
  {
   "cell_type": "code",
   "execution_count": 10,
   "id": "protecting-demonstration",
   "metadata": {},
   "outputs": [],
   "source": [
    "l_flow = Flow_Func(flow.flow_for[...,0], flow.flow_back[...,0],\n",
    "                              flow.flow_for[...,1], flow.flow_back[...,1])"
   ]
  },
  {
   "cell_type": "code",
   "execution_count": 20,
   "id": "atomic-cartoon",
   "metadata": {},
   "outputs": [],
   "source": [
    "def legacy_sobel(flow, field):\n",
    "    l_flow = Flow_Func(flow.flow_for[...,0], flow.flow_back[...,0],\n",
    "                              flow.flow_for[...,1], flow.flow_back[...,1])\n",
    "    \n",
    "    def _sobel_func_uphill(x, axis=0):\n",
    "        sobel_matrix = flow._sobel_matrix(3)\n",
    "        x = np.fmax(x-x[13],0)\n",
    "        out_array = np.nansum(x * sobel_matrix.ravel()[:,np.newaxis,np.newaxis], 0)**2\n",
    "        out_array += np.nansum(x * sobel_matrix.transpose([1,2,0]).ravel()[:,np.newaxis,np.newaxis], 0)**2\n",
    "        out_array += np.nansum(x * sobel_matrix.transpose([2,0,1]).ravel()[:,np.newaxis,np.newaxis], 0)**2\n",
    "\n",
    "        return out_array ** 0.5\n",
    "    \n",
    "    result = flow_convolve_nearest(field.data, l_flow, structure=np.ones([3,3,3]), function=_sobel_func_uphill)\n",
    "    \n",
    "    return result"
   ]
  },
  {
   "cell_type": "code",
   "execution_count": 21,
   "id": "unavailable-petersburg",
   "metadata": {},
   "outputs": [
    {
     "name": "stdout",
     "output_type": "stream",
     "text": [
      "peak memory: 251.73 MiB, increment: 9.80 MiB\n"
     ]
    }
   ],
   "source": [
    "%memit legacy_sobel(flow, wvd)"
   ]
  },
  {
   "cell_type": "code",
   "execution_count": 24,
   "id": "african-collection",
   "metadata": {},
   "outputs": [
    {
     "name": "stdout",
     "output_type": "stream",
     "text": [
      "2.34 s ± 19.1 ms per loop (mean ± std. dev. of 7 runs, 1 loop each)\n"
     ]
    }
   ],
   "source": [
    "%timeit legacy_sobel(flow, wvd)"
   ]
  },
  {
   "cell_type": "code",
   "execution_count": null,
   "id": "considered-cleaning",
   "metadata": {},
   "outputs": [],
   "source": []
  }
 ],
 "metadata": {
  "kernelspec": {
   "display_name": "Python 3",
   "language": "python",
   "name": "python3"
  },
  "language_info": {
   "codemirror_mode": {
    "name": "ipython",
    "version": 3
   },
   "file_extension": ".py",
   "mimetype": "text/x-python",
   "name": "python",
   "nbconvert_exporter": "python",
   "pygments_lexer": "ipython3",
   "version": "3.8.6"
  }
 },
 "nbformat": 4,
 "nbformat_minor": 5
}
